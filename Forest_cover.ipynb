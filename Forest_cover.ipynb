{
  "nbformat": 4,
  "nbformat_minor": 0,
  "metadata": {
    "colab": {
      "name": "Forest-cover.ipynb",
      "version": "0.3.2",
      "provenance": [],
      "collapsed_sections": []
    },
    "kernelspec": {
      "name": "python3",
      "display_name": "Python 3"
    },
    "accelerator": "GPU"
  },
  "cells": [
    {
      "metadata": {
        "id": "ZhSpMaajnmmQ",
        "colab_type": "code",
        "outputId": "0374622f-621a-474f-845d-1f08c866d8f2",
        "colab": {
          "base_uri": "https://localhost:8080/",
          "height": 127
        }
      },
      "cell_type": "code",
      "source": [
        "from google.colab import drive\n",
        "drive.mount('/content/drive')"
      ],
      "execution_count": 2,
      "outputs": [
        {
          "output_type": "stream",
          "text": [
            "Go to this URL in a browser: https://accounts.google.com/o/oauth2/auth?client_id=947318989803-6bn6qk8qdgf4n4g3pfee6491hc0brc4i.apps.googleusercontent.com&redirect_uri=urn%3Aietf%3Awg%3Aoauth%3A2.0%3Aoob&scope=email%20https%3A%2F%2Fwww.googleapis.com%2Fauth%2Fdocs.test%20https%3A%2F%2Fwww.googleapis.com%2Fauth%2Fdrive%20https%3A%2F%2Fwww.googleapis.com%2Fauth%2Fdrive.photos.readonly%20https%3A%2F%2Fwww.googleapis.com%2Fauth%2Fpeopleapi.readonly&response_type=code\n",
            "\n",
            "Enter your authorization code:\n",
            "··········\n",
            "Mounted at /content/drive\n"
          ],
          "name": "stdout"
        }
      ]
    },
    {
      "metadata": {
        "id": "W47VLA-VgMRm",
        "colab_type": "code",
        "outputId": "bf7968c8-1b5e-4d26-945a-918f276bb555",
        "colab": {
          "base_uri": "https://localhost:8080/",
          "height": 107
        }
      },
      "cell_type": "code",
      "source": [
        "%cd \"/content/drive/My Drive/forest-cover-type-kernels-only\"\n",
        "!ls"
      ],
      "execution_count": 3,
      "outputs": [
        {
          "output_type": "stream",
          "text": [
            "/content/drive/My Drive/forest-cover-type-kernels-only\n",
            "best_model1.h5\t       sub_CNN.csv\t\t Submission4.csv\n",
            "CNN_normalized.csv     sub_ensemble_forest1.csv  test.csv\n",
            "Forest-cover.ipynb     sub_ensemble_forest2.csv  train.csv\n",
            "sample_submission.csv  Submission3.csv\n"
          ],
          "name": "stdout"
        }
      ]
    },
    {
      "metadata": {
        "id": "AxvanIjqoaXq",
        "colab_type": "code",
        "outputId": "8fca7bdb-f512-4b3a-b943-3e8ce260d3bd",
        "colab": {
          "base_uri": "https://localhost:8080/",
          "height": 35
        }
      },
      "cell_type": "code",
      "source": [
        "from __future__ import print_function\n",
        "import keras\n",
        "from keras.models import Sequential\n",
        "from keras.layers import Dense, Dropout, Flatten\n",
        "from keras.layers import Conv2D, MaxPooling2D\n",
        "from keras.layers.normalization import BatchNormalization\n",
        "from keras import backend as K\n",
        "\n",
        "import pandas as pd\n",
        "import numpy as np\n",
        "import seaborn as sns\n",
        "import matplotlib.pyplot as plt\n",
        "import matplotlib as mpl\n",
        "import io\n",
        "%matplotlib inline"
      ],
      "execution_count": 4,
      "outputs": [
        {
          "output_type": "stream",
          "text": [
            "Using TensorFlow backend.\n"
          ],
          "name": "stderr"
        }
      ]
    },
    {
      "metadata": {
        "id": "jv3sce4vgGyb",
        "colab_type": "code",
        "colab": {}
      },
      "cell_type": "code",
      "source": [
        "from sklearn.ensemble import ExtraTreesClassifier, RandomForestClassifier\n",
        "from sklearn.ensemble import AdaBoostClassifier, GradientBoostingClassifier\n",
        "from sklearn.ensemble import BaggingClassifier\n",
        "from sklearn.neighbors import KNeighborsClassifier\n",
        "from sklearn.linear_model import LogisticRegression\n",
        "from sklearn.svm import SVC, LinearSVC\n",
        "from sklearn.model_selection import KFold\n",
        "from sklearn.naive_bayes import GaussianNB, MultinomialNB,  BernoulliNB\n",
        "from sklearn.metrics import accuracy_score, log_loss,jaccard_similarity_score\n",
        "import math\n",
        "from sklearn.preprocessing import normalize\n",
        "\n",
        "import xgboost as xgb\n",
        "from xgboost import XGBClassifier\n",
        "from lightgbm import LGBMClassifier"
      ],
      "execution_count": 0,
      "outputs": []
    },
    {
      "metadata": {
        "id": "KBH0DuvBgQLv",
        "colab_type": "code",
        "outputId": "0d493660-ca8d-4534-ac12-2403bc78af27",
        "colab": {
          "base_uri": "https://localhost:8080/",
          "height": 287
        }
      },
      "cell_type": "code",
      "source": [
        "!pip install heamy"
      ],
      "execution_count": 48,
      "outputs": [
        {
          "output_type": "stream",
          "text": [
            "Collecting heamy\n",
            "  Downloading https://files.pythonhosted.org/packages/20/32/2f3e1efa38a8e34f790d90b6d49ef06ab812181ae896c50e89b8750fa5a0/heamy-0.0.7.tar.gz\n",
            "Requirement already satisfied: scikit-learn>=0.17.0 in /usr/local/lib/python3.6/dist-packages (from heamy) (0.20.2)\n",
            "Requirement already satisfied: pandas>=0.17.0 in /usr/local/lib/python3.6/dist-packages (from heamy) (0.22.0)\n",
            "Requirement already satisfied: six>=1.10.0 in /usr/local/lib/python3.6/dist-packages (from heamy) (1.11.0)\n",
            "Requirement already satisfied: scipy>=0.16.0 in /usr/local/lib/python3.6/dist-packages (from heamy) (1.1.0)\n",
            "Requirement already satisfied: numpy>=1.7.0 in /usr/local/lib/python3.6/dist-packages (from heamy) (1.14.6)\n",
            "Requirement already satisfied: python-dateutil>=2 in /usr/local/lib/python3.6/dist-packages (from pandas>=0.17.0->heamy) (2.5.3)\n",
            "Requirement already satisfied: pytz>=2011k in /usr/local/lib/python3.6/dist-packages (from pandas>=0.17.0->heamy) (2018.9)\n",
            "Building wheels for collected packages: heamy\n",
            "  Building wheel for heamy (setup.py) ... \u001b[?25ldone\n",
            "\u001b[?25h  Stored in directory: /root/.cache/pip/wheels/ab/05/27/334fcc59e6279e70d84880e6988ea934d740829a900f14352f\n",
            "Successfully built heamy\n",
            "Installing collected packages: heamy\n",
            "Successfully installed heamy-0.0.7\n"
          ],
          "name": "stdout"
        }
      ]
    },
    {
      "metadata": {
        "id": "kUani5tjgRJl",
        "colab_type": "code",
        "colab": {}
      },
      "cell_type": "code",
      "source": [
        "import logging\n",
        "from heamy.dataset import Dataset\n",
        "from heamy.estimator import Classifier\n",
        "from heamy.pipeline import ModelsPipeline"
      ],
      "execution_count": 0,
      "outputs": []
    },
    {
      "metadata": {
        "id": "jd605OVEgUVV",
        "colab_type": "code",
        "colab": {}
      },
      "cell_type": "code",
      "source": [
        "CACHE=False\n",
        "\n",
        "NFOLDS = 5\n",
        "SEED = 1337\n",
        "METRIC = log_loss\n",
        "\n",
        "ID = 'Id'\n",
        "TARGET = 'Cover_Type'\n",
        "\n",
        "np.set_printoptions(precision=5)\n",
        "np.set_printoptions(suppress=True)\n",
        "\n",
        "np.random.seed(SEED)\n",
        "#logging.basicConfig(level=logging.DEBUG)\n",
        "logging.basicConfig(level=logging.WARNING)"
      ],
      "execution_count": 0,
      "outputs": []
    },
    {
      "metadata": {
        "id": "LibX6ySjQMVU",
        "colab_type": "code",
        "colab": {}
      },
      "cell_type": "code",
      "source": [
        "def extra_ftr(train_df):\n",
        "  print(\"starting extra_ftr\")\n",
        "  \n",
        "  train_df['HF1'] = train_df['Horizontal_Distance_To_Hydrology']+train_df['Horizontal_Distance_To_Fire_Points']\n",
        "  train_df['HF2'] = abs(train_df['Horizontal_Distance_To_Hydrology']-train_df['Horizontal_Distance_To_Fire_Points'])\n",
        "  train_df['HR1'] = abs(train_df['Horizontal_Distance_To_Hydrology']+train_df['Horizontal_Distance_To_Roadways'])\n",
        "  train_df['HR2'] = abs(train_df['Horizontal_Distance_To_Hydrology']-train_df['Horizontal_Distance_To_Roadways'])\n",
        "  train_df['FR1'] = abs(train_df['Horizontal_Distance_To_Fire_Points']+train_df['Horizontal_Distance_To_Roadways'])\n",
        "  train_df['FR2'] = abs(train_df['Horizontal_Distance_To_Fire_Points']-train_df['Horizontal_Distance_To_Roadways'])\n",
        "  train_df['ele_vert'] = train_df.Elevation-train_df.Vertical_Distance_To_Hydrology\n",
        "\n",
        "  train_df['slope_hyd'] = (train_df['Horizontal_Distance_To_Hydrology']**2+train_df['Vertical_Distance_To_Hydrology']**2)**0.5\n",
        "  train_df.slope_hyd=train_df.slope_hyd.map(lambda x: 0 if np.isinf(x) else x) # remove infinite value if any\n",
        "\n",
        "  #Mean distance to Amenities \n",
        "  train_df['Mean_Amenities']=(train_df.Horizontal_Distance_To_Fire_Points + train_df.Horizontal_Distance_To_Hydrology + train_df.Horizontal_Distance_To_Roadways) / 3 \n",
        "  #Mean Distance to Fire and Water \n",
        "  train_df['Mean_Fire_Hyd']=(train_df.Horizontal_Distance_To_Fire_Points + train_df.Horizontal_Distance_To_Hydrology) / 2 \n",
        "  \n",
        "  return train_df"
      ],
      "execution_count": 0,
      "outputs": []
    },
    {
      "metadata": {
        "id": "NIOXwgzw8Z9F",
        "colab_type": "code",
        "colab": {}
      },
      "cell_type": "code",
      "source": [
        "from sklearn import preprocessing\n",
        "\n",
        "def normaalize(train_df):\n",
        "  scaler = preprocessing.MinMaxScaler(feature_range=(0, 1), copy=False).fit(train_df)\n",
        "  scaler.transform(train_df)\n",
        "  return train_df"
      ],
      "execution_count": 0,
      "outputs": []
    },
    {
      "metadata": {
        "id": "XnUAONrh0_6j",
        "colab_type": "text"
      },
      "cell_type": "markdown",
      "source": [
        "Run the code blocks  below for CNN model"
      ]
    },
    {
      "metadata": {
        "id": "dPRJDJyadzhO",
        "colab_type": "code",
        "outputId": "c14e72db-763f-44f4-e7af-3e88dee5b521",
        "colab": {
          "base_uri": "https://localhost:8080/",
          "height": 71
        }
      },
      "cell_type": "code",
      "source": [
        "train_df = pd.read_csv(\"train.csv\")\n",
        "test_df = pd.read_csv(\"test.csv\")\n",
        "print(\"train and test df loaded \")\n",
        "\n",
        "train_lbl = train_df['Cover_Type']\n",
        "#train_df = soil_ftr(train_df)\n",
        "#train_df = wild_ftr(train_df)\n",
        "train_df = extra_ftr(train_df)\n",
        "\n",
        "#test_df = soil_ftr(test_df)\n",
        "#test_df = wild_ftr(test_df)\n",
        "test_df = extra_ftr(test_df) \n",
        "\n",
        "train_df.drop(['Id','Cover_Type','Elevation'],axis=1,inplace=True)\n",
        "test_df.drop(['Id','Elevation'],axis=1,inplace=True)\n",
        "\n",
        "train_df=np.array(train_df)\n",
        "test_df=np.array(test_df)\n",
        "\n",
        "train_df=normaalize(train_df)\n",
        "test_df=normaalize(test_df)\n",
        "\n",
        "from sklearn.model_selection import train_test_split\n",
        "\n",
        "X_train, X_val, y_train, y_val = train_test_split(train_df, train_lbl, test_size=0.3, random_state=42)"
      ],
      "execution_count": 7,
      "outputs": [
        {
          "output_type": "stream",
          "text": [
            "train and test df loaded \n",
            "starting extra_ftr\n",
            "starting extra_ftr\n"
          ],
          "name": "stdout"
        }
      ]
    },
    {
      "metadata": {
        "id": "4d6Rh87thG9i",
        "colab_type": "code",
        "colab": {}
      },
      "cell_type": "code",
      "source": [
        "from keras.utils import to_categorical\n",
        "\n",
        "y_train=y_train-1\n",
        "y_val=y_val-1\n",
        "\n",
        "y_train=to_categorical(y_train)\n",
        "y_val=to_categorical(y_val)\n"
      ],
      "execution_count": 0,
      "outputs": []
    },
    {
      "metadata": {
        "id": "rMGifUY_FNEp",
        "colab_type": "code",
        "outputId": "9977022a-d4db-4772-b1c4-f3b191d12e5a",
        "colab": {
          "base_uri": "https://localhost:8080/",
          "height": 107
        }
      },
      "cell_type": "code",
      "source": [
        "print(\"Shape of y_train : \",y_train.shape)\n",
        "print(\"Shape of y_val : \",y_val.shape)\n",
        "\n",
        "print(\"Shape of X_train : \",X_train.shape)\n",
        "print(\"Shape of X_val : \",X_val.shape)\n",
        "\n",
        "print(y_val[0])"
      ],
      "execution_count": 9,
      "outputs": [
        {
          "output_type": "stream",
          "text": [
            "Shape of y_train :  (10584, 7)\n",
            "Shape of y_val :  (4536, 7)\n",
            "Shape of X_train :  (10584, 63)\n",
            "Shape of X_val :  (4536, 63)\n",
            "[0. 0. 0. 0. 0. 1. 0.]\n"
          ],
          "name": "stdout"
        }
      ]
    },
    {
      "metadata": {
        "id": "mymhMmf7hkTH",
        "colab_type": "code",
        "outputId": "9c531576-6db9-4918-946e-f11270e152c5",
        "colab": {
          "base_uri": "https://localhost:8080/",
          "height": 53
        }
      },
      "cell_type": "code",
      "source": [
        "from keras.layers import Activation\n",
        "\n",
        "batch_size = 256\n",
        "epochs = 30\n",
        "img_cols, channels = 63 , 1\n",
        "\n",
        "if K.image_data_format() == 'channels_first':\n",
        "    X_train = X_train.reshape(X_train.shape[0], channels, img_cols)\n",
        "    X_val = X_val.reshape(X_val.shape[0], channels, img_cols)\n",
        "    input_shape = (channels, img_cols, )\n",
        "else:\n",
        "    X_train = X_train.reshape(X_train.shape[0], img_cols, channels)\n",
        "    X_val = X_val.reshape(X_val.shape[0], img_cols, channels)\n",
        "    input_shape = (img_cols, channels, )\n",
        "\n",
        "#input_shape = ( 63,1  )   \n",
        "print('X_train shape:', X_train.shape)\n",
        "print(X_train.shape[0], 'train samples')"
      ],
      "execution_count": 23,
      "outputs": [
        {
          "output_type": "stream",
          "text": [
            "X_train shape: (10584, 63, 1)\n",
            "10584 train samples\n"
          ],
          "name": "stdout"
        }
      ]
    },
    {
      "metadata": {
        "id": "P0HEZCYR-Ru5",
        "colab_type": "code",
        "colab": {}
      },
      "cell_type": "code",
      "source": [
        "from keras.preprocessing.text import Tokenizer\n",
        "from keras.preprocessing.sequence import pad_sequences\n",
        "from keras.layers import Dense, Input, LSTM, Embedding, Dropout, Activation, Conv1D, Conv2D, GRU, CuDNNGRU, CuDNNLSTM, BatchNormalization, Flatten\n",
        "from keras.layers import Bidirectional, GlobalMaxPool1D, MaxPooling1D, Add, Flatten, AveragePooling1D\n",
        "from keras.layers import GlobalAveragePooling1D, GlobalMaxPooling1D, concatenate, SpatialDropout1D\n",
        "from keras.models import Model, load_model\n",
        "from keras import initializers, regularizers, constraints, optimizers, layers, callbacks\n",
        "from keras import backend as K\n",
        "from keras.engine import InputSpec, Layer\n",
        "from keras.optimizers import Adam\n",
        "\n",
        "from keras.callbacks import ModelCheckpoint, TensorBoard, Callback, EarlyStopping"
      ],
      "execution_count": 0,
      "outputs": []
    },
    {
      "metadata": {
        "id": "DmtuR1GZ7KOW",
        "colab_type": "code",
        "colab": {}
      },
      "cell_type": "code",
      "source": [
        "def build_model1(inp_dim, model_num, kernel_size1, kernel_size2, conv_size, dense_units):\n",
        "  if model_num==1:\n",
        "    file_path = \"best_model1.h5\"\n",
        "    \n",
        "  if model_num==2:\n",
        "    file_path = \"best_model2.h5\"\n",
        "  \n",
        "  if model_num==3:\n",
        "    file_path = \"best_model3.h5\"\n",
        "    \n",
        "  if model_num==4:\n",
        "    file_path = \"best_model4.h5\"\n",
        "  \n",
        "  best_model = ModelCheckpoint(file_path, monitor='val_acc', verbose = 1, save_best_only = True)\n",
        "  callbacks = EarlyStopping(monitor='val_loss', patience=5, verbose=1, mode='auto')\n",
        "  \n",
        "  inp=Input(shape = input_shape)\n",
        "  \n",
        "  x1 = Conv1D(conv_size, kernel_size=kernel_size1, padding='valid', kernel_initializer='he_uniform', activation='relu')(inp)\n",
        "  x1 = Conv1D(2*conv_size, kernel_size=kernel_size1, padding='valid', kernel_initializer='he_uniform', activation='relu')(x1)\n",
        "  x1 = BatchNormalization()(x1)\n",
        "  x1 = Conv1D(4*conv_size, kernel_size=kernel_size2, padding='valid', kernel_initializer='he_uniform', activation='relu')(x1)\n",
        "  x1 = Conv1D(8*conv_size, kernel_size=kernel_size2, padding='valid', kernel_initializer='he_uniform', activation='relu')(x1)\n",
        "  x1 = AveragePooling1D()(x1)\n",
        "  \n",
        "  \n",
        "  x2 = Conv1D(conv_size, kernel_size=kernel_size1, padding='valid', kernel_initializer='he_uniform',activation='relu')(inp)\n",
        "  x2 = Conv1D(2*conv_size, kernel_size=kernel_size1, padding='valid', kernel_initializer='he_uniform')(x2)\n",
        "  x2 = BatchNormalization()(x2)\n",
        "  x2 = Conv1D(4*conv_size, kernel_size=kernel_size2, padding='valid', kernel_initializer='he_uniform',activation='relu')(x2)\n",
        "  x2 = Conv1D(8*conv_size, kernel_size=kernel_size2, padding='valid', kernel_initializer='he_uniform',activation='relu')(x2)\n",
        "  x2 = MaxPooling1D()(x2)\n",
        "  '''\n",
        "  \n",
        "  x3 = Conv1D(conv_size, kernel_size=kernel_size1, padding='valid', kernel_initializer='he_uniform')(inp)\n",
        "  x3 = Conv1D(2*conv_size, kernel_size=kernel_size1, padding='valid', kernel_initializer='he_uniform')(x3)\n",
        "  x3 = MaxPooling1D()(x3)\n",
        "  x3 = Conv1D(4*conv_size, kernel_size=kernel_size2, padding='valid', kernel_initializer='he_uniform')(x3)\n",
        "  x3 = Conv1D(8*conv_size, kernel_size=kernel_size2, padding='valid', kernel_initializer='he_uniform')(x3)\n",
        "  x3 = AveragePooling1D()(x3)\n",
        "  \n",
        "  x4 = Conv1D(conv_size, kernel_size=kernel_size1, padding='valid', kernel_initializer='he_uniform')(inp)\n",
        "  x4 = Conv1D(2*conv_size, kernel_size=kernel_size1, padding='valid', kernel_initializer='he_uniform')(x4)\n",
        "  x4 = MaxPooling1D()(x4)\n",
        "  x4 = Conv1D(4*conv_size, kernel_size=kernel_size2, padding='valid', kernel_initializer='he_uniform')(x4)\n",
        "  x4 = Conv1D(8*conv_size, kernel_size=kernel_size2, padding='valid', kernel_initializer='he_uniform')(x4)\n",
        "  x4 = MaxPooling1D()(x4)\n",
        "  '''\n",
        "  \n",
        "  x = concatenate([x1, x2])\n",
        "  print(\"After concatenate : \",x.shape)\n",
        "  x =Flatten()(x)\n",
        "  print(\"After Flatten : \",x.shape)\n",
        "  x = BatchNormalization()(x)\n",
        "  x = Dropout(0.2)(Dense(dense_units, activation='relu') (x))\n",
        "  print(\"After dense1 : \",x.shape)\n",
        "  x = BatchNormalization()(x)\n",
        "  x = Dropout(0.2)(Dense(int(dense_units / 2), activation='relu') (x))\n",
        "  print(\"After dense2 : \",x.shape)\n",
        "  x = BatchNormalization()(x)\n",
        "  x = Dropout(0.2)(Dense(int(dense_units / 4), activation='relu') (x))\n",
        "  print(\"After dense3 : \",x.shape)\n",
        "  x = Dense(7, activation = \"softmax\")(x)\n",
        "  print(\"After dense4 : \",x.shape)\n",
        "  model = Model(inputs = inp, outputs = x)\n",
        "  model.compile(loss = \"categorical_crossentropy\", optimizer = 'adam', metrics = [\"accuracy\"])\n",
        "  history = model.fit(X_train, y_train, batch_size = 128, epochs = 70, validation_data=(X_val, y_val), verbose = 1, callbacks = [callbacks,best_model])\n",
        "  print(model.summary())\n",
        "  \n",
        "  \n",
        "  plt.plot(history.history['acc'])\n",
        "  plt.plot(history.history['val_acc'])\n",
        "  plt.title('model accuracy')\n",
        "  plt.ylabel('accuracy')\n",
        "  plt.xlabel('epoch')\n",
        "  plt.legend(['train', 'val'], loc='upper left')\n",
        "  plt.show()\n",
        "\n",
        "  plt.plot(history.history['loss'])\n",
        "  plt.plot(history.history['val_loss'])\n",
        "  plt.title('model loss')\n",
        "  plt.ylabel('loss')\n",
        "  plt.xlabel('epoch')\n",
        "  plt.legend(['train', 'val'], loc='upper left')\n",
        "  plt.show()\n",
        "  \n",
        "  return model"
      ],
      "execution_count": 0,
      "outputs": []
    },
    {
      "metadata": {
        "id": "U38vW4ZcGUAx",
        "colab_type": "code",
        "outputId": "6988b4c7-adc4-4d37-8620-f137e19919e5",
        "colab": {
          "base_uri": "https://localhost:8080/",
          "height": 4225
        }
      },
      "cell_type": "code",
      "source": [
        "model1=build_model1(inp_dim=63, model_num=1, kernel_size1=3, kernel_size2=3, conv_size=16, dense_units=256)"
      ],
      "execution_count": 31,
      "outputs": [
        {
          "output_type": "stream",
          "text": [
            "After concatenate :  (?, 27, 256)\n",
            "After Flatten :  (?, ?)\n",
            "After dense1 :  (?, 256)\n",
            "After dense2 :  (?, 128)\n",
            "After dense3 :  (?, 64)\n",
            "After dense4 :  (?, 7)\n",
            "Train on 10584 samples, validate on 4536 samples\n",
            "Epoch 1/70\n",
            "10584/10584 [==============================] - 7s 634us/step - loss: 1.0998 - acc: 0.5670 - val_loss: 0.8251 - val_acc: 0.6523\n",
            "\n",
            "Epoch 00001: val_acc improved from -inf to 0.65234, saving model to best_model1.h5\n",
            "Epoch 2/70\n",
            "10584/10584 [==============================] - 3s 280us/step - loss: 0.8647 - acc: 0.6428 - val_loss: 0.7320 - val_acc: 0.7008\n",
            "\n",
            "Epoch 00002: val_acc improved from 0.65234 to 0.70084, saving model to best_model1.h5\n",
            "Epoch 3/70\n",
            "10584/10584 [==============================] - 3s 259us/step - loss: 0.7500 - acc: 0.6850 - val_loss: 0.6467 - val_acc: 0.7176\n",
            "\n",
            "Epoch 00003: val_acc improved from 0.70084 to 0.71759, saving model to best_model1.h5\n",
            "Epoch 4/70\n",
            "10584/10584 [==============================] - 3s 251us/step - loss: 0.6889 - acc: 0.7112 - val_loss: 0.6163 - val_acc: 0.7509\n",
            "\n",
            "Epoch 00004: val_acc improved from 0.71759 to 0.75088, saving model to best_model1.h5\n",
            "Epoch 5/70\n",
            "10584/10584 [==============================] - 3s 252us/step - loss: 0.6399 - acc: 0.7369 - val_loss: 0.6073 - val_acc: 0.7661\n",
            "\n",
            "Epoch 00005: val_acc improved from 0.75088 to 0.76609, saving model to best_model1.h5\n",
            "Epoch 6/70\n",
            "10584/10584 [==============================] - 3s 246us/step - loss: 0.6098 - acc: 0.7472 - val_loss: 0.5355 - val_acc: 0.7901\n",
            "\n",
            "Epoch 00006: val_acc improved from 0.76609 to 0.79012, saving model to best_model1.h5\n",
            "Epoch 7/70\n",
            "10584/10584 [==============================] - 3s 247us/step - loss: 0.5732 - acc: 0.7663 - val_loss: 0.5450 - val_acc: 0.7754\n",
            "\n",
            "Epoch 00007: val_acc did not improve from 0.79012\n",
            "Epoch 8/70\n",
            "10584/10584 [==============================] - 3s 248us/step - loss: 0.5516 - acc: 0.7756 - val_loss: 0.5207 - val_acc: 0.7948\n",
            "\n",
            "Epoch 00008: val_acc improved from 0.79012 to 0.79475, saving model to best_model1.h5\n",
            "Epoch 9/70\n",
            "10584/10584 [==============================] - 3s 247us/step - loss: 0.5301 - acc: 0.7863 - val_loss: 0.4874 - val_acc: 0.8155\n",
            "\n",
            "Epoch 00009: val_acc improved from 0.79475 to 0.81548, saving model to best_model1.h5\n",
            "Epoch 10/70\n",
            "10584/10584 [==============================] - 3s 247us/step - loss: 0.5113 - acc: 0.7926 - val_loss: 0.4987 - val_acc: 0.8045\n",
            "\n",
            "Epoch 00010: val_acc did not improve from 0.81548\n",
            "Epoch 11/70\n",
            "10584/10584 [==============================] - 3s 246us/step - loss: 0.4980 - acc: 0.7989 - val_loss: 0.5173 - val_acc: 0.7877\n",
            "\n",
            "Epoch 00011: val_acc did not improve from 0.81548\n",
            "Epoch 12/70\n",
            "10584/10584 [==============================] - 3s 251us/step - loss: 0.4728 - acc: 0.8124 - val_loss: 0.4783 - val_acc: 0.8100\n",
            "\n",
            "Epoch 00012: val_acc did not improve from 0.81548\n",
            "Epoch 13/70\n",
            "10584/10584 [==============================] - 3s 244us/step - loss: 0.4742 - acc: 0.8098 - val_loss: 0.4776 - val_acc: 0.8161\n",
            "\n",
            "Epoch 00013: val_acc improved from 0.81548 to 0.81614, saving model to best_model1.h5\n",
            "Epoch 14/70\n",
            "10584/10584 [==============================] - 3s 246us/step - loss: 0.4572 - acc: 0.8181 - val_loss: 0.4487 - val_acc: 0.8250\n",
            "\n",
            "Epoch 00014: val_acc improved from 0.81614 to 0.82496, saving model to best_model1.h5\n",
            "Epoch 15/70\n",
            "10584/10584 [==============================] - 3s 244us/step - loss: 0.4373 - acc: 0.8270 - val_loss: 0.4535 - val_acc: 0.8276\n",
            "\n",
            "Epoch 00015: val_acc improved from 0.82496 to 0.82760, saving model to best_model1.h5\n",
            "Epoch 16/70\n",
            "10584/10584 [==============================] - 3s 248us/step - loss: 0.4253 - acc: 0.8266 - val_loss: 0.4525 - val_acc: 0.8316\n",
            "\n",
            "Epoch 00016: val_acc improved from 0.82760 to 0.83157, saving model to best_model1.h5\n",
            "Epoch 17/70\n",
            "10584/10584 [==============================] - 3s 251us/step - loss: 0.4202 - acc: 0.8330 - val_loss: 0.4344 - val_acc: 0.8300\n",
            "\n",
            "Epoch 00017: val_acc did not improve from 0.83157\n",
            "Epoch 18/70\n",
            "10584/10584 [==============================] - 3s 253us/step - loss: 0.4057 - acc: 0.8401 - val_loss: 0.4461 - val_acc: 0.8391\n",
            "\n",
            "Epoch 00018: val_acc improved from 0.83157 to 0.83907, saving model to best_model1.h5\n",
            "Epoch 19/70\n",
            "10584/10584 [==============================] - 3s 253us/step - loss: 0.3996 - acc: 0.8439 - val_loss: 0.4253 - val_acc: 0.8399\n",
            "\n",
            "Epoch 00019: val_acc improved from 0.83907 to 0.83995, saving model to best_model1.h5\n",
            "Epoch 20/70\n",
            "10584/10584 [==============================] - 3s 254us/step - loss: 0.3918 - acc: 0.8474 - val_loss: 0.4657 - val_acc: 0.8239\n",
            "\n",
            "Epoch 00020: val_acc did not improve from 0.83995\n",
            "Epoch 21/70\n",
            "10584/10584 [==============================] - 3s 250us/step - loss: 0.3854 - acc: 0.8491 - val_loss: 0.4163 - val_acc: 0.8457\n",
            "\n",
            "Epoch 00021: val_acc improved from 0.83995 to 0.84568, saving model to best_model1.h5\n",
            "Epoch 22/70\n",
            "10584/10584 [==============================] - 3s 251us/step - loss: 0.3753 - acc: 0.8546 - val_loss: 0.4547 - val_acc: 0.8344\n",
            "\n",
            "Epoch 00022: val_acc did not improve from 0.84568\n",
            "Epoch 23/70\n",
            "10584/10584 [==============================] - 3s 246us/step - loss: 0.3713 - acc: 0.8562 - val_loss: 0.4455 - val_acc: 0.8402\n",
            "\n",
            "Epoch 00023: val_acc did not improve from 0.84568\n",
            "Epoch 24/70\n",
            "10584/10584 [==============================] - 3s 251us/step - loss: 0.3567 - acc: 0.8585 - val_loss: 0.4359 - val_acc: 0.8417\n",
            "\n",
            "Epoch 00024: val_acc did not improve from 0.84568\n",
            "Epoch 25/70\n",
            "10584/10584 [==============================] - 3s 248us/step - loss: 0.3513 - acc: 0.8608 - val_loss: 0.4140 - val_acc: 0.8490\n",
            "\n",
            "Epoch 00025: val_acc improved from 0.84568 to 0.84899, saving model to best_model1.h5\n",
            "Epoch 26/70\n",
            "10584/10584 [==============================] - 3s 245us/step - loss: 0.3402 - acc: 0.8697 - val_loss: 0.4350 - val_acc: 0.8463\n",
            "\n",
            "Epoch 00026: val_acc did not improve from 0.84899\n",
            "Epoch 27/70\n",
            "10584/10584 [==============================] - 3s 242us/step - loss: 0.3313 - acc: 0.8680 - val_loss: 0.4144 - val_acc: 0.8525\n",
            "\n",
            "Epoch 00027: val_acc improved from 0.84899 to 0.85251, saving model to best_model1.h5\n",
            "Epoch 28/70\n",
            "10584/10584 [==============================] - 3s 246us/step - loss: 0.3247 - acc: 0.8715 - val_loss: 0.4140 - val_acc: 0.8541\n",
            "\n",
            "Epoch 00028: val_acc improved from 0.85251 to 0.85406, saving model to best_model1.h5\n",
            "Epoch 29/70\n",
            "10584/10584 [==============================] - 3s 245us/step - loss: 0.3243 - acc: 0.8738 - val_loss: 0.4135 - val_acc: 0.8468\n",
            "\n",
            "Epoch 00029: val_acc did not improve from 0.85406\n",
            "Epoch 30/70\n",
            "10584/10584 [==============================] - 3s 245us/step - loss: 0.3223 - acc: 0.8730 - val_loss: 0.4195 - val_acc: 0.8433\n",
            "\n",
            "Epoch 00030: val_acc did not improve from 0.85406\n",
            "Epoch 31/70\n",
            "10584/10584 [==============================] - 3s 250us/step - loss: 0.3237 - acc: 0.8714 - val_loss: 0.4537 - val_acc: 0.8468\n",
            "\n",
            "Epoch 00031: val_acc did not improve from 0.85406\n",
            "Epoch 32/70\n",
            "10584/10584 [==============================] - 3s 249us/step - loss: 0.3028 - acc: 0.8825 - val_loss: 0.4562 - val_acc: 0.8474\n",
            "\n",
            "Epoch 00032: val_acc did not improve from 0.85406\n",
            "Epoch 33/70\n",
            "10584/10584 [==============================] - 3s 249us/step - loss: 0.2938 - acc: 0.8823 - val_loss: 0.4202 - val_acc: 0.8538\n",
            "\n",
            "Epoch 00033: val_acc did not improve from 0.85406\n",
            "Epoch 34/70\n",
            "10584/10584 [==============================] - 3s 244us/step - loss: 0.2892 - acc: 0.8902 - val_loss: 0.4396 - val_acc: 0.8501\n",
            "\n",
            "Epoch 00034: val_acc did not improve from 0.85406\n",
            "Epoch 00034: early stopping\n",
            "__________________________________________________________________________________________________\n",
            "Layer (type)                    Output Shape         Param #     Connected to                     \n",
            "==================================================================================================\n",
            "input_7 (InputLayer)            (None, 63, 1)        0                                            \n",
            "__________________________________________________________________________________________________\n",
            "conv1d_51 (Conv1D)              (None, 61, 16)       64          input_7[0][0]                    \n",
            "__________________________________________________________________________________________________\n",
            "conv1d_55 (Conv1D)              (None, 61, 16)       64          input_7[0][0]                    \n",
            "__________________________________________________________________________________________________\n",
            "conv1d_52 (Conv1D)              (None, 59, 32)       1568        conv1d_51[0][0]                  \n",
            "__________________________________________________________________________________________________\n",
            "conv1d_56 (Conv1D)              (None, 59, 32)       1568        conv1d_55[0][0]                  \n",
            "__________________________________________________________________________________________________\n",
            "batch_normalization_14 (BatchNo (None, 59, 32)       128         conv1d_52[0][0]                  \n",
            "__________________________________________________________________________________________________\n",
            "batch_normalization_15 (BatchNo (None, 59, 32)       128         conv1d_56[0][0]                  \n",
            "__________________________________________________________________________________________________\n",
            "conv1d_53 (Conv1D)              (None, 57, 64)       6208        batch_normalization_14[0][0]     \n",
            "__________________________________________________________________________________________________\n",
            "conv1d_57 (Conv1D)              (None, 57, 64)       6208        batch_normalization_15[0][0]     \n",
            "__________________________________________________________________________________________________\n",
            "conv1d_54 (Conv1D)              (None, 55, 128)      24704       conv1d_53[0][0]                  \n",
            "__________________________________________________________________________________________________\n",
            "conv1d_58 (Conv1D)              (None, 55, 128)      24704       conv1d_57[0][0]                  \n",
            "__________________________________________________________________________________________________\n",
            "average_pooling1d_9 (AveragePoo (None, 27, 128)      0           conv1d_54[0][0]                  \n",
            "__________________________________________________________________________________________________\n",
            "max_pooling1d_13 (MaxPooling1D) (None, 27, 128)      0           conv1d_58[0][0]                  \n",
            "__________________________________________________________________________________________________\n",
            "concatenate_5 (Concatenate)     (None, 27, 256)      0           average_pooling1d_9[0][0]        \n",
            "                                                                 max_pooling1d_13[0][0]           \n",
            "__________________________________________________________________________________________________\n",
            "flatten_5 (Flatten)             (None, 6912)         0           concatenate_5[0][0]              \n",
            "__________________________________________________________________________________________________\n",
            "batch_normalization_16 (BatchNo (None, 6912)         27648       flatten_5[0][0]                  \n",
            "__________________________________________________________________________________________________\n",
            "dense_13 (Dense)                (None, 256)          1769728     batch_normalization_16[0][0]     \n",
            "__________________________________________________________________________________________________\n",
            "dropout_10 (Dropout)            (None, 256)          0           dense_13[0][0]                   \n",
            "__________________________________________________________________________________________________\n",
            "batch_normalization_17 (BatchNo (None, 256)          1024        dropout_10[0][0]                 \n",
            "__________________________________________________________________________________________________\n",
            "dense_14 (Dense)                (None, 128)          32896       batch_normalization_17[0][0]     \n",
            "__________________________________________________________________________________________________\n",
            "dropout_11 (Dropout)            (None, 128)          0           dense_14[0][0]                   \n",
            "__________________________________________________________________________________________________\n",
            "batch_normalization_18 (BatchNo (None, 128)          512         dropout_11[0][0]                 \n",
            "__________________________________________________________________________________________________\n",
            "dense_15 (Dense)                (None, 64)           8256        batch_normalization_18[0][0]     \n",
            "__________________________________________________________________________________________________\n",
            "dropout_12 (Dropout)            (None, 64)           0           dense_15[0][0]                   \n",
            "__________________________________________________________________________________________________\n",
            "dense_16 (Dense)                (None, 7)            455         dropout_12[0][0]                 \n",
            "==================================================================================================\n",
            "Total params: 1,905,863\n",
            "Trainable params: 1,891,143\n",
            "Non-trainable params: 14,720\n",
            "__________________________________________________________________________________________________\n",
            "None\n"
          ],
          "name": "stdout"
        },
        {
          "output_type": "display_data",
          "data": {
            "image/png": "[encoded data removed]",
            "text/plain": [
              "<Figure size 432x288 with 1 Axes>"
            ]
          },
          "metadata": {
            "tags": []
          }
        },
        {
          "output_type": "display_data",
          "data": {
            "image/png": "[encoded data removed]",
            "text/plain": [
              "<Figure size 432x288 with 1 Axes>"
            ]
          },
          "metadata": {
            "tags": []
          }
        }
      ]
    },
    {
      "metadata": {
        "id": "IMJc427yH5vs",
        "colab_type": "code",
        "outputId": "712f4fd9-22ac-4beb-f058-a098d0953991",
        "colab": {
          "base_uri": "https://localhost:8080/",
          "height": 3433
        }
      },
      "cell_type": "code",
      "source": [
        "model2=build_model1(inp_dim=63, model_num=2, kernel_size1=5, kernel_size2=5, conv_size=32, dense_units=512)"
      ],
      "execution_count": 37,
      "outputs": [
        {
          "output_type": "stream",
          "text": [
            "After concatenate :  (?, 23, 512)\n",
            "After Flatten :  (?, ?)\n",
            "After dense1 :  (?, 512)\n",
            "After dense2 :  (?, 256)\n",
            "After dense3 :  (?, 128)\n",
            "After dense4 :  (?, 7)\n",
            "Train on 10584 samples, validate on 4536 samples\n",
            "Epoch 1/70\n",
            "10584/10584 [==============================] - 10s 907us/step - loss: 1.0982 - acc: 0.5608 - val_loss: 0.8881 - val_acc: 0.6301\n",
            "\n",
            "Epoch 00001: val_acc improved from -inf to 0.63007, saving model to best_model2.h5\n",
            "Epoch 2/70\n",
            "10584/10584 [==============================] - 4s 387us/step - loss: 0.9249 - acc: 0.6112 - val_loss: 0.8278 - val_acc: 0.6656\n",
            "\n",
            "Epoch 00002: val_acc improved from 0.63007 to 0.66556, saving model to best_model2.h5\n",
            "Epoch 3/70\n",
            "10584/10584 [==============================] - 4s 378us/step - loss: 0.8019 - acc: 0.6609 - val_loss: 0.7995 - val_acc: 0.6623\n",
            "\n",
            "Epoch 00003: val_acc did not improve from 0.66556\n",
            "Epoch 4/70\n",
            "10584/10584 [==============================] - 4s 390us/step - loss: 0.7223 - acc: 0.6942 - val_loss: 0.8475 - val_acc: 0.6722\n",
            "\n",
            "Epoch 00004: val_acc improved from 0.66556 to 0.67218, saving model to best_model2.h5\n",
            "Epoch 5/70\n",
            "10584/10584 [==============================] - 4s 379us/step - loss: 0.6664 - acc: 0.7187 - val_loss: 0.6689 - val_acc: 0.7260\n",
            "\n",
            "Epoch 00005: val_acc improved from 0.67218 to 0.72597, saving model to best_model2.h5\n",
            "Epoch 6/70\n",
            "10584/10584 [==============================] - 4s 382us/step - loss: 0.6287 - acc: 0.7394 - val_loss: 0.5813 - val_acc: 0.7654\n",
            "\n",
            "Epoch 00006: val_acc improved from 0.72597 to 0.76543, saving model to best_model2.h5\n",
            "Epoch 7/70\n",
            "10584/10584 [==============================] - 4s 377us/step - loss: 0.5986 - acc: 0.7518 - val_loss: 0.5787 - val_acc: 0.7720\n",
            "\n",
            "Epoch 00007: val_acc improved from 0.76543 to 0.77205, saving model to best_model2.h5\n",
            "Epoch 8/70\n",
            "10584/10584 [==============================] - 4s 381us/step - loss: 0.5758 - acc: 0.7632 - val_loss: 0.6139 - val_acc: 0.7540\n",
            "\n",
            "Epoch 00008: val_acc did not improve from 0.77205\n",
            "Epoch 9/70\n",
            "10584/10584 [==============================] - 4s 387us/step - loss: 0.5407 - acc: 0.7768 - val_loss: 0.5998 - val_acc: 0.7582\n",
            "\n",
            "Epoch 00009: val_acc did not improve from 0.77205\n",
            "Epoch 10/70\n",
            "10584/10584 [==============================] - 4s 378us/step - loss: 0.5320 - acc: 0.7851 - val_loss: 0.5619 - val_acc: 0.7696\n",
            "\n",
            "Epoch 00010: val_acc did not improve from 0.77205\n",
            "Epoch 11/70\n",
            "10584/10584 [==============================] - 4s 378us/step - loss: 0.5130 - acc: 0.7873 - val_loss: 0.5526 - val_acc: 0.7884\n",
            "\n",
            "Epoch 00011: val_acc improved from 0.77205 to 0.78836, saving model to best_model2.h5\n",
            "Epoch 12/70\n",
            "10584/10584 [==============================] - 4s 383us/step - loss: 0.4889 - acc: 0.8053 - val_loss: 0.5062 - val_acc: 0.8049\n",
            "\n",
            "Epoch 00012: val_acc improved from 0.78836 to 0.80489, saving model to best_model2.h5\n",
            "Epoch 13/70\n",
            "10584/10584 [==============================] - 4s 379us/step - loss: 0.4876 - acc: 0.8027 - val_loss: 0.5198 - val_acc: 0.7939\n",
            "\n",
            "Epoch 00013: val_acc did not improve from 0.80489\n",
            "Epoch 14/70\n",
            "10584/10584 [==============================] - 4s 387us/step - loss: 0.4681 - acc: 0.8070 - val_loss: 0.4716 - val_acc: 0.8219\n",
            "\n",
            "Epoch 00014: val_acc improved from 0.80489 to 0.82187, saving model to best_model2.h5\n",
            "Epoch 15/70\n",
            "10584/10584 [==============================] - 4s 383us/step - loss: 0.4682 - acc: 0.8139 - val_loss: 0.5012 - val_acc: 0.8016\n",
            "\n",
            "Epoch 00015: val_acc did not improve from 0.82187\n",
            "Epoch 16/70\n",
            "10584/10584 [==============================] - 4s 377us/step - loss: 0.4447 - acc: 0.8157 - val_loss: 0.4641 - val_acc: 0.8236\n",
            "\n",
            "Epoch 00016: val_acc improved from 0.82187 to 0.82363, saving model to best_model2.h5\n",
            "Epoch 17/70\n",
            "10584/10584 [==============================] - 4s 381us/step - loss: 0.4319 - acc: 0.8255 - val_loss: 0.4904 - val_acc: 0.8071\n",
            "\n",
            "Epoch 00017: val_acc did not improve from 0.82363\n",
            "Epoch 18/70\n",
            "10584/10584 [==============================] - 4s 391us/step - loss: 0.4251 - acc: 0.8291 - val_loss: 0.4501 - val_acc: 0.8225\n",
            "\n",
            "Epoch 00018: val_acc did not improve from 0.82363\n",
            "Epoch 19/70\n",
            "10584/10584 [==============================] - 4s 379us/step - loss: 0.4085 - acc: 0.8348 - val_loss: 0.4887 - val_acc: 0.8071\n",
            "\n",
            "Epoch 00019: val_acc did not improve from 0.82363\n",
            "Epoch 20/70\n",
            "10584/10584 [==============================] - 4s 379us/step - loss: 0.4118 - acc: 0.8310 - val_loss: 0.5093 - val_acc: 0.7978\n",
            "\n",
            "Epoch 00020: val_acc did not improve from 0.82363\n",
            "Epoch 21/70\n",
            "10584/10584 [==============================] - 4s 377us/step - loss: 0.3909 - acc: 0.8457 - val_loss: 0.4942 - val_acc: 0.8190\n",
            "\n",
            "Epoch 00021: val_acc did not improve from 0.82363\n",
            "Epoch 22/70\n",
            "10584/10584 [==============================] - 4s 376us/step - loss: 0.3833 - acc: 0.8454 - val_loss: 0.4764 - val_acc: 0.8228\n",
            "\n",
            "Epoch 00022: val_acc did not improve from 0.82363\n",
            "Epoch 23/70\n",
            "10584/10584 [==============================] - 4s 379us/step - loss: 0.3782 - acc: 0.8422 - val_loss: 0.4611 - val_acc: 0.8219\n",
            "\n",
            "Epoch 00023: val_acc did not improve from 0.82363\n",
            "Epoch 00023: early stopping\n",
            "__________________________________________________________________________________________________\n",
            "Layer (type)                    Output Shape         Param #     Connected to                     \n",
            "==================================================================================================\n",
            "input_8 (InputLayer)            (None, 63, 1)        0                                            \n",
            "__________________________________________________________________________________________________\n",
            "conv1d_59 (Conv1D)              (None, 59, 32)       192         input_8[0][0]                    \n",
            "__________________________________________________________________________________________________\n",
            "conv1d_63 (Conv1D)              (None, 59, 32)       192         input_8[0][0]                    \n",
            "__________________________________________________________________________________________________\n",
            "conv1d_60 (Conv1D)              (None, 55, 64)       10304       conv1d_59[0][0]                  \n",
            "__________________________________________________________________________________________________\n",
            "conv1d_64 (Conv1D)              (None, 55, 64)       10304       conv1d_63[0][0]                  \n",
            "__________________________________________________________________________________________________\n",
            "batch_normalization_19 (BatchNo (None, 55, 64)       256         conv1d_60[0][0]                  \n",
            "__________________________________________________________________________________________________\n",
            "batch_normalization_20 (BatchNo (None, 55, 64)       256         conv1d_64[0][0]                  \n",
            "__________________________________________________________________________________________________\n",
            "conv1d_61 (Conv1D)              (None, 51, 128)      41088       batch_normalization_19[0][0]     \n",
            "__________________________________________________________________________________________________\n",
            "conv1d_65 (Conv1D)              (None, 51, 128)      41088       batch_normalization_20[0][0]     \n",
            "__________________________________________________________________________________________________\n",
            "conv1d_62 (Conv1D)              (None, 47, 256)      164096      conv1d_61[0][0]                  \n",
            "__________________________________________________________________________________________________\n",
            "conv1d_66 (Conv1D)              (None, 47, 256)      164096      conv1d_65[0][0]                  \n",
            "__________________________________________________________________________________________________\n",
            "average_pooling1d_10 (AveragePo (None, 23, 256)      0           conv1d_62[0][0]                  \n",
            "__________________________________________________________________________________________________\n",
            "max_pooling1d_14 (MaxPooling1D) (None, 23, 256)      0           conv1d_66[0][0]                  \n",
            "__________________________________________________________________________________________________\n",
            "concatenate_6 (Concatenate)     (None, 23, 512)      0           average_pooling1d_10[0][0]       \n",
            "                                                                 max_pooling1d_14[0][0]           \n",
            "__________________________________________________________________________________________________\n",
            "flatten_6 (Flatten)             (None, 11776)        0           concatenate_6[0][0]              \n",
            "__________________________________________________________________________________________________\n",
            "batch_normalization_21 (BatchNo (None, 11776)        47104       flatten_6[0][0]                  \n",
            "__________________________________________________________________________________________________\n",
            "dense_17 (Dense)                (None, 512)          6029824     batch_normalization_21[0][0]     \n",
            "__________________________________________________________________________________________________\n",
            "dropout_13 (Dropout)            (None, 512)          0           dense_17[0][0]                   \n",
            "__________________________________________________________________________________________________\n",
            "batch_normalization_22 (BatchNo (None, 512)          2048        dropout_13[0][0]                 \n",
            "__________________________________________________________________________________________________\n",
            "dense_18 (Dense)                (None, 256)          131328      batch_normalization_22[0][0]     \n",
            "__________________________________________________________________________________________________\n",
            "dropout_14 (Dropout)            (None, 256)          0           dense_18[0][0]                   \n",
            "__________________________________________________________________________________________________\n",
            "batch_normalization_23 (BatchNo (None, 256)          1024        dropout_14[0][0]                 \n",
            "__________________________________________________________________________________________________\n",
            "dense_19 (Dense)                (None, 128)          32896       batch_normalization_23[0][0]     \n",
            "__________________________________________________________________________________________________\n",
            "dropout_15 (Dropout)            (None, 128)          0           dense_19[0][0]                   \n",
            "__________________________________________________________________________________________________\n",
            "dense_20 (Dense)                (None, 7)            903         dropout_15[0][0]                 \n",
            "==================================================================================================\n",
            "Total params: 6,676,999\n",
            "Trainable params: 6,651,655\n",
            "Non-trainable params: 25,344\n",
            "__________________________________________________________________________________________________\n",
            "None\n"
          ],
          "name": "stdout"
        },
        {
          "output_type": "display_data",
          "data": {
            "image/png": "[encoded data removed]",
            "text/plain": [
              "<Figure size 432x288 with 1 Axes>"
            ]
          },
          "metadata": {
            "tags": []
          }
        },
        {
          "output_type": "display_data",
          "data": {
            "image/png": "[encoded data removed]",
            "text/plain": [
              "<Figure size 432x288 with 1 Axes>"
            ]
          },
          "metadata": {
            "tags": []
          }
        }
      ]
    },
    {
      "metadata": {
        "id": "7RmeZM2qH55V",
        "colab_type": "code",
        "outputId": "241aeb72-1837-4c93-c37e-44eef052a4b5",
        "colab": {
          "base_uri": "https://localhost:8080/",
          "height": 3721
        }
      },
      "cell_type": "code",
      "source": [
        "model3=build_model1(inp_dim=63, model_num=3, kernel_size1=3, kernel_size2=3, conv_size=32, dense_units=256)"
      ],
      "execution_count": 38,
      "outputs": [
        {
          "output_type": "stream",
          "text": [
            "After concatenate :  (?, 27, 512)\n",
            "After Flatten :  (?, ?)\n",
            "After dense1 :  (?, 256)\n",
            "After dense2 :  (?, 128)\n",
            "After dense3 :  (?, 64)\n",
            "After dense4 :  (?, 7)\n",
            "Train on 10584 samples, validate on 4536 samples\n",
            "Epoch 1/70\n",
            "10584/10584 [==============================] - 9s 893us/step - loss: 1.1120 - acc: 0.5622 - val_loss: 0.8196 - val_acc: 0.6550\n",
            "\n",
            "Epoch 00001: val_acc improved from -inf to 0.65498, saving model to best_model3.h5\n",
            "Epoch 2/70\n",
            "10584/10584 [==============================] - 4s 358us/step - loss: 0.8504 - acc: 0.6469 - val_loss: 0.7140 - val_acc: 0.6997\n",
            "\n",
            "Epoch 00002: val_acc improved from 0.65498 to 0.69974, saving model to best_model3.h5\n",
            "Epoch 3/70\n",
            "10584/10584 [==============================] - 4s 347us/step - loss: 0.7467 - acc: 0.6915 - val_loss: 0.6485 - val_acc: 0.7315\n",
            "\n",
            "Epoch 00003: val_acc improved from 0.69974 to 0.73148, saving model to best_model3.h5\n",
            "Epoch 4/70\n",
            "10584/10584 [==============================] - 4s 349us/step - loss: 0.6775 - acc: 0.7180 - val_loss: 0.5841 - val_acc: 0.7637\n",
            "\n",
            "Epoch 00004: val_acc improved from 0.73148 to 0.76367, saving model to best_model3.h5\n",
            "Epoch 5/70\n",
            "10584/10584 [==============================] - 4s 349us/step - loss: 0.6337 - acc: 0.7387 - val_loss: 0.6183 - val_acc: 0.7593\n",
            "\n",
            "Epoch 00005: val_acc did not improve from 0.76367\n",
            "Epoch 6/70\n",
            "10584/10584 [==============================] - 4s 354us/step - loss: 0.6060 - acc: 0.7528 - val_loss: 0.5460 - val_acc: 0.7716\n",
            "\n",
            "Epoch 00006: val_acc improved from 0.76367 to 0.77160, saving model to best_model3.h5\n",
            "Epoch 7/70\n",
            "10584/10584 [==============================] - 4s 348us/step - loss: 0.5909 - acc: 0.7576 - val_loss: 0.5235 - val_acc: 0.7895\n",
            "\n",
            "Epoch 00007: val_acc improved from 0.77160 to 0.78946, saving model to best_model3.h5\n",
            "Epoch 8/70\n",
            "10584/10584 [==============================] - 4s 348us/step - loss: 0.5517 - acc: 0.7743 - val_loss: 0.5163 - val_acc: 0.7983\n",
            "\n",
            "Epoch 00008: val_acc improved from 0.78946 to 0.79828, saving model to best_model3.h5\n",
            "Epoch 9/70\n",
            "10584/10584 [==============================] - 4s 348us/step - loss: 0.5421 - acc: 0.7860 - val_loss: 0.5282 - val_acc: 0.8022\n",
            "\n",
            "Epoch 00009: val_acc improved from 0.79828 to 0.80225, saving model to best_model3.h5\n",
            "Epoch 10/70\n",
            "10584/10584 [==============================] - 4s 347us/step - loss: 0.5062 - acc: 0.7954 - val_loss: 0.4958 - val_acc: 0.8067\n",
            "\n",
            "Epoch 00010: val_acc improved from 0.80225 to 0.80666, saving model to best_model3.h5\n",
            "Epoch 11/70\n",
            "10584/10584 [==============================] - 4s 347us/step - loss: 0.4982 - acc: 0.7979 - val_loss: 0.4831 - val_acc: 0.8113\n",
            "\n",
            "Epoch 00011: val_acc improved from 0.80666 to 0.81129, saving model to best_model3.h5\n",
            "Epoch 12/70\n",
            "10584/10584 [==============================] - 4s 349us/step - loss: 0.5022 - acc: 0.7985 - val_loss: 0.5033 - val_acc: 0.8170\n",
            "\n",
            "Epoch 00012: val_acc improved from 0.81129 to 0.81702, saving model to best_model3.h5\n",
            "Epoch 13/70\n",
            "10584/10584 [==============================] - 4s 348us/step - loss: 0.4798 - acc: 0.8043 - val_loss: 0.5168 - val_acc: 0.7952\n",
            "\n",
            "Epoch 00013: val_acc did not improve from 0.81702\n",
            "Epoch 14/70\n",
            "10584/10584 [==============================] - 4s 352us/step - loss: 0.4606 - acc: 0.8104 - val_loss: 0.4995 - val_acc: 0.8139\n",
            "\n",
            "Epoch 00014: val_acc did not improve from 0.81702\n",
            "Epoch 15/70\n",
            "10584/10584 [==============================] - 4s 345us/step - loss: 0.4581 - acc: 0.8195 - val_loss: 0.4553 - val_acc: 0.8256\n",
            "\n",
            "Epoch 00015: val_acc improved from 0.81702 to 0.82562, saving model to best_model3.h5\n",
            "Epoch 16/70\n",
            "10584/10584 [==============================] - 4s 348us/step - loss: 0.4422 - acc: 0.8238 - val_loss: 0.4734 - val_acc: 0.8223\n",
            "\n",
            "Epoch 00016: val_acc did not improve from 0.82562\n",
            "Epoch 17/70\n",
            "10584/10584 [==============================] - 4s 347us/step - loss: 0.4269 - acc: 0.8320 - val_loss: 0.5318 - val_acc: 0.8014\n",
            "\n",
            "Epoch 00017: val_acc did not improve from 0.82562\n",
            "Epoch 18/70\n",
            "10584/10584 [==============================] - 4s 355us/step - loss: 0.4140 - acc: 0.8372 - val_loss: 0.4374 - val_acc: 0.8364\n",
            "\n",
            "Epoch 00018: val_acc improved from 0.82562 to 0.83642, saving model to best_model3.h5\n",
            "Epoch 19/70\n",
            "10584/10584 [==============================] - 4s 348us/step - loss: 0.4109 - acc: 0.8326 - val_loss: 0.4294 - val_acc: 0.8347\n",
            "\n",
            "Epoch 00019: val_acc did not improve from 0.83642\n",
            "Epoch 20/70\n",
            "10584/10584 [==============================] - 4s 347us/step - loss: 0.4153 - acc: 0.8365 - val_loss: 0.4439 - val_acc: 0.8347\n",
            "\n",
            "Epoch 00020: val_acc did not improve from 0.83642\n",
            "Epoch 21/70\n",
            "10584/10584 [==============================] - 4s 354us/step - loss: 0.4013 - acc: 0.8391 - val_loss: 0.4562 - val_acc: 0.8230\n",
            "\n",
            "Epoch 00021: val_acc did not improve from 0.83642\n",
            "Epoch 22/70\n",
            "10584/10584 [==============================] - 4s 347us/step - loss: 0.3906 - acc: 0.8440 - val_loss: 0.4085 - val_acc: 0.8470\n",
            "\n",
            "Epoch 00022: val_acc improved from 0.83642 to 0.84700, saving model to best_model3.h5\n",
            "Epoch 23/70\n",
            "10584/10584 [==============================] - 4s 347us/step - loss: 0.3744 - acc: 0.8540 - val_loss: 0.4604 - val_acc: 0.8278\n",
            "\n",
            "Epoch 00023: val_acc did not improve from 0.84700\n",
            "Epoch 24/70\n",
            "10584/10584 [==============================] - 4s 349us/step - loss: 0.3823 - acc: 0.8529 - val_loss: 0.4336 - val_acc: 0.8364\n",
            "\n",
            "Epoch 00024: val_acc did not improve from 0.84700\n",
            "Epoch 25/70\n",
            "10584/10584 [==============================] - 4s 352us/step - loss: 0.3694 - acc: 0.8553 - val_loss: 0.4708 - val_acc: 0.8300\n",
            "\n",
            "Epoch 00025: val_acc did not improve from 0.84700\n",
            "Epoch 26/70\n",
            "10584/10584 [==============================] - 4s 349us/step - loss: 0.3611 - acc: 0.8554 - val_loss: 0.4346 - val_acc: 0.8428\n",
            "\n",
            "Epoch 00026: val_acc did not improve from 0.84700\n",
            "Epoch 27/70\n",
            "10584/10584 [==============================] - 4s 349us/step - loss: 0.3516 - acc: 0.8580 - val_loss: 0.4738 - val_acc: 0.8261\n",
            "\n",
            "Epoch 00027: val_acc did not improve from 0.84700\n",
            "Epoch 00027: early stopping\n",
            "__________________________________________________________________________________________________\n",
            "Layer (type)                    Output Shape         Param #     Connected to                     \n",
            "==================================================================================================\n",
            "input_9 (InputLayer)            (None, 63, 1)        0                                            \n",
            "__________________________________________________________________________________________________\n",
            "conv1d_67 (Conv1D)              (None, 61, 32)       128         input_9[0][0]                    \n",
            "__________________________________________________________________________________________________\n",
            "conv1d_71 (Conv1D)              (None, 61, 32)       128         input_9[0][0]                    \n",
            "__________________________________________________________________________________________________\n",
            "conv1d_68 (Conv1D)              (None, 59, 64)       6208        conv1d_67[0][0]                  \n",
            "__________________________________________________________________________________________________\n",
            "conv1d_72 (Conv1D)              (None, 59, 64)       6208        conv1d_71[0][0]                  \n",
            "__________________________________________________________________________________________________\n",
            "batch_normalization_24 (BatchNo (None, 59, 64)       256         conv1d_68[0][0]                  \n",
            "__________________________________________________________________________________________________\n",
            "batch_normalization_25 (BatchNo (None, 59, 64)       256         conv1d_72[0][0]                  \n",
            "__________________________________________________________________________________________________\n",
            "conv1d_69 (Conv1D)              (None, 57, 128)      24704       batch_normalization_24[0][0]     \n",
            "__________________________________________________________________________________________________\n",
            "conv1d_73 (Conv1D)              (None, 57, 128)      24704       batch_normalization_25[0][0]     \n",
            "__________________________________________________________________________________________________\n",
            "conv1d_70 (Conv1D)              (None, 55, 256)      98560       conv1d_69[0][0]                  \n",
            "__________________________________________________________________________________________________\n",
            "conv1d_74 (Conv1D)              (None, 55, 256)      98560       conv1d_73[0][0]                  \n",
            "__________________________________________________________________________________________________\n",
            "average_pooling1d_11 (AveragePo (None, 27, 256)      0           conv1d_70[0][0]                  \n",
            "__________________________________________________________________________________________________\n",
            "max_pooling1d_15 (MaxPooling1D) (None, 27, 256)      0           conv1d_74[0][0]                  \n",
            "__________________________________________________________________________________________________\n",
            "concatenate_7 (Concatenate)     (None, 27, 512)      0           average_pooling1d_11[0][0]       \n",
            "                                                                 max_pooling1d_15[0][0]           \n",
            "__________________________________________________________________________________________________\n",
            "flatten_7 (Flatten)             (None, 13824)        0           concatenate_7[0][0]              \n",
            "__________________________________________________________________________________________________\n",
            "batch_normalization_26 (BatchNo (None, 13824)        55296       flatten_7[0][0]                  \n",
            "__________________________________________________________________________________________________\n",
            "dense_21 (Dense)                (None, 256)          3539200     batch_normalization_26[0][0]     \n",
            "__________________________________________________________________________________________________\n",
            "dropout_16 (Dropout)            (None, 256)          0           dense_21[0][0]                   \n",
            "__________________________________________________________________________________________________\n",
            "batch_normalization_27 (BatchNo (None, 256)          1024        dropout_16[0][0]                 \n",
            "__________________________________________________________________________________________________\n",
            "dense_22 (Dense)                (None, 128)          32896       batch_normalization_27[0][0]     \n",
            "__________________________________________________________________________________________________\n",
            "dropout_17 (Dropout)            (None, 128)          0           dense_22[0][0]                   \n",
            "__________________________________________________________________________________________________\n",
            "batch_normalization_28 (BatchNo (None, 128)          512         dropout_17[0][0]                 \n",
            "__________________________________________________________________________________________________\n",
            "dense_23 (Dense)                (None, 64)           8256        batch_normalization_28[0][0]     \n",
            "__________________________________________________________________________________________________\n",
            "dropout_18 (Dropout)            (None, 64)           0           dense_23[0][0]                   \n",
            "__________________________________________________________________________________________________\n",
            "dense_24 (Dense)                (None, 7)            455         dropout_18[0][0]                 \n",
            "==================================================================================================\n",
            "Total params: 3,897,351\n",
            "Trainable params: 3,868,679\n",
            "Non-trainable params: 28,672\n",
            "__________________________________________________________________________________________________\n",
            "None\n"
          ],
          "name": "stdout"
        },
        {
          "output_type": "display_data",
          "data": {
            "image/png": "[encoded data removed]",
            "text/plain": [
              "<Figure size 432x288 with 1 Axes>"
            ]
          },
          "metadata": {
            "tags": []
          }
        },
        {
          "output_type": "display_data",
          "data": {
            "image/png": "[encoded data removed]",
            "text/plain": [
              "<Figure size 432x288 with 1 Axes>"
            ]
          },
          "metadata": {
            "tags": []
          }
        }
      ]
    },
    {
      "metadata": {
        "id": "Z_k4T4aTH6C4",
        "colab_type": "code",
        "outputId": "1ca7dbf5-156c-4cd5-b6dd-40d3c9f2b1f8",
        "colab": {
          "base_uri": "https://localhost:8080/",
          "height": 3721
        }
      },
      "cell_type": "code",
      "source": [
        "model4=build_model1(inp_dim=63, model_num=4, kernel_size1=5, kernel_size2=5, conv_size=16, dense_units=512)"
      ],
      "execution_count": 39,
      "outputs": [
        {
          "output_type": "stream",
          "text": [
            "After concatenate :  (?, 23, 256)\n",
            "After Flatten :  (?, ?)\n",
            "After dense1 :  (?, 512)\n",
            "After dense2 :  (?, 256)\n",
            "After dense3 :  (?, 128)\n",
            "After dense4 :  (?, 7)\n",
            "Train on 10584 samples, validate on 4536 samples\n",
            "Epoch 1/70\n",
            "10584/10584 [==============================] - 9s 837us/step - loss: 1.0937 - acc: 0.5629 - val_loss: 0.8839 - val_acc: 0.6168\n",
            "\n",
            "Epoch 00001: val_acc improved from -inf to 0.61684, saving model to best_model4.h5\n",
            "Epoch 2/70\n",
            "10584/10584 [==============================] - 3s 279us/step - loss: 0.9074 - acc: 0.6206 - val_loss: 0.7781 - val_acc: 0.6909\n",
            "\n",
            "Epoch 00002: val_acc improved from 0.61684 to 0.69092, saving model to best_model4.h5\n",
            "Epoch 3/70\n",
            "10584/10584 [==============================] - 3s 277us/step - loss: 0.7968 - acc: 0.6648 - val_loss: 0.7208 - val_acc: 0.6989\n",
            "\n",
            "Epoch 00003: val_acc improved from 0.69092 to 0.69885, saving model to best_model4.h5\n",
            "Epoch 4/70\n",
            "10584/10584 [==============================] - 3s 278us/step - loss: 0.7210 - acc: 0.6938 - val_loss: 0.6392 - val_acc: 0.7337\n",
            "\n",
            "Epoch 00004: val_acc improved from 0.69885 to 0.73369, saving model to best_model4.h5\n",
            "Epoch 5/70\n",
            "10584/10584 [==============================] - 3s 280us/step - loss: 0.6531 - acc: 0.7230 - val_loss: 0.6275 - val_acc: 0.7436\n",
            "\n",
            "Epoch 00005: val_acc improved from 0.73369 to 0.74361, saving model to best_model4.h5\n",
            "Epoch 6/70\n",
            "10584/10584 [==============================] - 3s 277us/step - loss: 0.6128 - acc: 0.7443 - val_loss: 0.5588 - val_acc: 0.7826\n",
            "\n",
            "Epoch 00006: val_acc improved from 0.74361 to 0.78263, saving model to best_model4.h5\n",
            "Epoch 7/70\n",
            "10584/10584 [==============================] - 3s 278us/step - loss: 0.5797 - acc: 0.7601 - val_loss: 0.5505 - val_acc: 0.7943\n",
            "\n",
            "Epoch 00007: val_acc improved from 0.78263 to 0.79431, saving model to best_model4.h5\n",
            "Epoch 8/70\n",
            "10584/10584 [==============================] - 3s 276us/step - loss: 0.5522 - acc: 0.7756 - val_loss: 0.6369 - val_acc: 0.7604\n",
            "\n",
            "Epoch 00008: val_acc did not improve from 0.79431\n",
            "Epoch 9/70\n",
            "10584/10584 [==============================] - 3s 274us/step - loss: 0.5355 - acc: 0.7811 - val_loss: 0.5208 - val_acc: 0.7985\n",
            "\n",
            "Epoch 00009: val_acc improved from 0.79431 to 0.79850, saving model to best_model4.h5\n",
            "Epoch 10/70\n",
            "10584/10584 [==============================] - 3s 275us/step - loss: 0.5079 - acc: 0.7959 - val_loss: 0.4875 - val_acc: 0.8100\n",
            "\n",
            "Epoch 00010: val_acc improved from 0.79850 to 0.80996, saving model to best_model4.h5\n",
            "Epoch 11/70\n",
            "10584/10584 [==============================] - 3s 273us/step - loss: 0.4892 - acc: 0.8019 - val_loss: 0.4848 - val_acc: 0.8186\n",
            "\n",
            "Epoch 00011: val_acc improved from 0.80996 to 0.81856, saving model to best_model4.h5\n",
            "Epoch 12/70\n",
            "10584/10584 [==============================] - 3s 278us/step - loss: 0.4772 - acc: 0.8035 - val_loss: 0.5036 - val_acc: 0.7928\n",
            "\n",
            "Epoch 00012: val_acc did not improve from 0.81856\n",
            "Epoch 13/70\n",
            "10584/10584 [==============================] - 3s 273us/step - loss: 0.4683 - acc: 0.8081 - val_loss: 0.5073 - val_acc: 0.7937\n",
            "\n",
            "Epoch 00013: val_acc did not improve from 0.81856\n",
            "Epoch 14/70\n",
            "10584/10584 [==============================] - 3s 273us/step - loss: 0.4502 - acc: 0.8153 - val_loss: 0.4761 - val_acc: 0.8155\n",
            "\n",
            "Epoch 00014: val_acc did not improve from 0.81856\n",
            "Epoch 15/70\n",
            "10584/10584 [==============================] - 3s 284us/step - loss: 0.4381 - acc: 0.8253 - val_loss: 0.4497 - val_acc: 0.8221\n",
            "\n",
            "Epoch 00015: val_acc improved from 0.81856 to 0.82209, saving model to best_model4.h5\n",
            "Epoch 16/70\n",
            "10584/10584 [==============================] - 3s 273us/step - loss: 0.4254 - acc: 0.8304 - val_loss: 0.4469 - val_acc: 0.8333\n",
            "\n",
            "Epoch 00016: val_acc improved from 0.82209 to 0.83333, saving model to best_model4.h5\n",
            "Epoch 17/70\n",
            "10584/10584 [==============================] - 3s 274us/step - loss: 0.4235 - acc: 0.8261 - val_loss: 0.4363 - val_acc: 0.8340\n",
            "\n",
            "Epoch 00017: val_acc improved from 0.83333 to 0.83399, saving model to best_model4.h5\n",
            "Epoch 18/70\n",
            "10584/10584 [==============================] - 3s 278us/step - loss: 0.4065 - acc: 0.8348 - val_loss: 0.4985 - val_acc: 0.8203\n",
            "\n",
            "Epoch 00018: val_acc did not improve from 0.83399\n",
            "Epoch 19/70\n",
            "10584/10584 [==============================] - 3s 275us/step - loss: 0.3982 - acc: 0.8392 - val_loss: 0.4741 - val_acc: 0.8201\n",
            "\n",
            "Epoch 00019: val_acc did not improve from 0.83399\n",
            "Epoch 20/70\n",
            "10584/10584 [==============================] - 3s 280us/step - loss: 0.3911 - acc: 0.8399 - val_loss: 0.4524 - val_acc: 0.8283\n",
            "\n",
            "Epoch 00020: val_acc did not improve from 0.83399\n",
            "Epoch 21/70\n",
            "10584/10584 [==============================] - 3s 278us/step - loss: 0.3929 - acc: 0.8424 - val_loss: 0.4450 - val_acc: 0.8276\n",
            "\n",
            "Epoch 00021: val_acc did not improve from 0.83399\n",
            "Epoch 22/70\n",
            "10584/10584 [==============================] - 3s 272us/step - loss: 0.3822 - acc: 0.8461 - val_loss: 0.4285 - val_acc: 0.8408\n",
            "\n",
            "Epoch 00022: val_acc improved from 0.83399 to 0.84083, saving model to best_model4.h5\n",
            "Epoch 23/70\n",
            "10584/10584 [==============================] - 3s 275us/step - loss: 0.3702 - acc: 0.8486 - val_loss: 0.4995 - val_acc: 0.8097\n",
            "\n",
            "Epoch 00023: val_acc did not improve from 0.84083\n",
            "Epoch 24/70\n",
            "10584/10584 [==============================] - 3s 273us/step - loss: 0.3599 - acc: 0.8564 - val_loss: 0.4500 - val_acc: 0.8366\n",
            "\n",
            "Epoch 00024: val_acc did not improve from 0.84083\n",
            "Epoch 25/70\n",
            "10584/10584 [==============================] - 3s 269us/step - loss: 0.3615 - acc: 0.8564 - val_loss: 0.4300 - val_acc: 0.8441\n",
            "\n",
            "Epoch 00025: val_acc improved from 0.84083 to 0.84414, saving model to best_model4.h5\n",
            "Epoch 26/70\n",
            "10584/10584 [==============================] - 3s 271us/step - loss: 0.3450 - acc: 0.8606 - val_loss: 0.4431 - val_acc: 0.8448\n",
            "\n",
            "Epoch 00026: val_acc improved from 0.84414 to 0.84480, saving model to best_model4.h5\n",
            "Epoch 27/70\n",
            "10584/10584 [==============================] - 3s 273us/step - loss: 0.3381 - acc: 0.8661 - val_loss: 0.4384 - val_acc: 0.8444\n",
            "\n",
            "Epoch 00027: val_acc did not improve from 0.84480\n",
            "Epoch 00027: early stopping\n",
            "__________________________________________________________________________________________________\n",
            "Layer (type)                    Output Shape         Param #     Connected to                     \n",
            "==================================================================================================\n",
            "input_10 (InputLayer)           (None, 63, 1)        0                                            \n",
            "__________________________________________________________________________________________________\n",
            "conv1d_75 (Conv1D)              (None, 59, 16)       96          input_10[0][0]                   \n",
            "__________________________________________________________________________________________________\n",
            "conv1d_79 (Conv1D)              (None, 59, 16)       96          input_10[0][0]                   \n",
            "__________________________________________________________________________________________________\n",
            "conv1d_76 (Conv1D)              (None, 55, 32)       2592        conv1d_75[0][0]                  \n",
            "__________________________________________________________________________________________________\n",
            "conv1d_80 (Conv1D)              (None, 55, 32)       2592        conv1d_79[0][0]                  \n",
            "__________________________________________________________________________________________________\n",
            "batch_normalization_29 (BatchNo (None, 55, 32)       128         conv1d_76[0][0]                  \n",
            "__________________________________________________________________________________________________\n",
            "batch_normalization_30 (BatchNo (None, 55, 32)       128         conv1d_80[0][0]                  \n",
            "__________________________________________________________________________________________________\n",
            "conv1d_77 (Conv1D)              (None, 51, 64)       10304       batch_normalization_29[0][0]     \n",
            "__________________________________________________________________________________________________\n",
            "conv1d_81 (Conv1D)              (None, 51, 64)       10304       batch_normalization_30[0][0]     \n",
            "__________________________________________________________________________________________________\n",
            "conv1d_78 (Conv1D)              (None, 47, 128)      41088       conv1d_77[0][0]                  \n",
            "__________________________________________________________________________________________________\n",
            "conv1d_82 (Conv1D)              (None, 47, 128)      41088       conv1d_81[0][0]                  \n",
            "__________________________________________________________________________________________________\n",
            "average_pooling1d_12 (AveragePo (None, 23, 128)      0           conv1d_78[0][0]                  \n",
            "__________________________________________________________________________________________________\n",
            "max_pooling1d_16 (MaxPooling1D) (None, 23, 128)      0           conv1d_82[0][0]                  \n",
            "__________________________________________________________________________________________________\n",
            "concatenate_8 (Concatenate)     (None, 23, 256)      0           average_pooling1d_12[0][0]       \n",
            "                                                                 max_pooling1d_16[0][0]           \n",
            "__________________________________________________________________________________________________\n",
            "flatten_8 (Flatten)             (None, 5888)         0           concatenate_8[0][0]              \n",
            "__________________________________________________________________________________________________\n",
            "batch_normalization_31 (BatchNo (None, 5888)         23552       flatten_8[0][0]                  \n",
            "__________________________________________________________________________________________________\n",
            "dense_25 (Dense)                (None, 512)          3015168     batch_normalization_31[0][0]     \n",
            "__________________________________________________________________________________________________\n",
            "dropout_19 (Dropout)            (None, 512)          0           dense_25[0][0]                   \n",
            "__________________________________________________________________________________________________\n",
            "batch_normalization_32 (BatchNo (None, 512)          2048        dropout_19[0][0]                 \n",
            "__________________________________________________________________________________________________\n",
            "dense_26 (Dense)                (None, 256)          131328      batch_normalization_32[0][0]     \n",
            "__________________________________________________________________________________________________\n",
            "dropout_20 (Dropout)            (None, 256)          0           dense_26[0][0]                   \n",
            "__________________________________________________________________________________________________\n",
            "batch_normalization_33 (BatchNo (None, 256)          1024        dropout_20[0][0]                 \n",
            "__________________________________________________________________________________________________\n",
            "dense_27 (Dense)                (None, 128)          32896       batch_normalization_33[0][0]     \n",
            "__________________________________________________________________________________________________\n",
            "dropout_21 (Dropout)            (None, 128)          0           dense_27[0][0]                   \n",
            "__________________________________________________________________________________________________\n",
            "dense_28 (Dense)                (None, 7)            903         dropout_21[0][0]                 \n",
            "==================================================================================================\n",
            "Total params: 3,315,335\n",
            "Trainable params: 3,301,895\n",
            "Non-trainable params: 13,440\n",
            "__________________________________________________________________________________________________\n",
            "None\n"
          ],
          "name": "stdout"
        },
        {
          "output_type": "display_data",
          "data": {
            "image/png": "[encoded data removed]",
            "text/plain": [
              "<Figure size 432x288 with 1 Axes>"
            ]
          },
          "metadata": {
            "tags": []
          }
        },
        {
          "output_type": "display_data",
          "data": {
            "image/png": "[encoded data removed]",
            "text/plain": [
              "<Figure size 432x288 with 1 Axes>"
            ]
          },
          "metadata": {
            "tags": []
          }
        }
      ]
    },
    {
      "metadata": {
        "id": "FfZDrpHhV1KC",
        "colab_type": "code",
        "outputId": "8de839a8-9793-4408-ad37-dc3fcd21e626",
        "colab": {
          "base_uri": "https://localhost:8080/",
          "height": 35
        }
      },
      "cell_type": "code",
      "source": [
        "\n",
        "if K.image_data_format() == 'channels_first':\n",
        "    X_test = test_df.reshape(test_df.shape[0], channels, img_cols)\n",
        "    input_shape = (channels, img_cols, )\n",
        "else:\n",
        "    X_test = test_df.reshape(test_df.shape[0], img_cols, channels)\n",
        "    input_shape = (img_cols, channels, )\n",
        "    \n",
        "print('X_test shape:', X_test.shape)"
      ],
      "execution_count": 32,
      "outputs": [
        {
          "output_type": "stream",
          "text": [
            "X_test shape: (565892, 63, 1)\n"
          ],
          "name": "stdout"
        }
      ]
    },
    {
      "metadata": {
        "id": "DoVO313rXCv_",
        "colab_type": "code",
        "outputId": "7ba7c4d1-78e0-44f4-ed8d-3f837da4983d",
        "colab": {
          "base_uri": "https://localhost:8080/",
          "height": 53
        }
      },
      "cell_type": "code",
      "source": [
        "model1.load_weights('best_model1.h5')\n",
        "y_pred1=model1.predict(X_test, verbose=1)\n",
        "#y_pred1=np.argmax(y_pred1, axis = 1)\n",
        "print(y_pred1.shape)\n",
        "\n"
      ],
      "execution_count": 40,
      "outputs": [
        {
          "output_type": "stream",
          "text": [
            "565892/565892 [==============================] - 93s 164us/step\n",
            "(565892, 7)\n"
          ],
          "name": "stdout"
        }
      ]
    },
    {
      "metadata": {
        "id": "jroAIor2P-gG",
        "colab_type": "code",
        "colab": {
          "base_uri": "https://localhost:8080/",
          "height": 53
        },
        "outputId": "ac9a27ef-2d0b-40f5-a370-ebccdd9ae4dc"
      },
      "cell_type": "code",
      "source": [
        "model2.load_weights('best_model2.h5')\n",
        "y_pred2=model2.predict(X_test, verbose=1)\n",
        "print(y_pred2.shape)\n"
      ],
      "execution_count": 41,
      "outputs": [
        {
          "output_type": "stream",
          "text": [
            "565892/565892 [==============================] - 123s 218us/step\n",
            "(565892, 7)\n"
          ],
          "name": "stdout"
        }
      ]
    },
    {
      "metadata": {
        "id": "s-jI15DWP_ed",
        "colab_type": "code",
        "colab": {
          "base_uri": "https://localhost:8080/",
          "height": 53
        },
        "outputId": "1aa1b220-fb43-49da-cb94-20fc092d61a1"
      },
      "cell_type": "code",
      "source": [
        "model3.load_weights('best_model3.h5')\n",
        "y_pred3=model3.predict(X_test, verbose=1)\n",
        "print(y_pred3.shape)"
      ],
      "execution_count": 42,
      "outputs": [
        {
          "output_type": "stream",
          "text": [
            "565892/565892 [==============================] - 119s 210us/step\n",
            "(565892, 7)\n"
          ],
          "name": "stdout"
        }
      ]
    },
    {
      "metadata": {
        "id": "KDnCCn_HQANZ",
        "colab_type": "code",
        "colab": {
          "base_uri": "https://localhost:8080/",
          "height": 53
        },
        "outputId": "c61c3c10-a6f9-441d-84bf-6321d9061f00"
      },
      "cell_type": "code",
      "source": [
        "model4.load_weights('best_model4.h5')\n",
        "y_pred4=model4.predict(X_test, verbose=1)\n",
        "print(y_pred4.shape)"
      ],
      "execution_count": 43,
      "outputs": [
        {
          "output_type": "stream",
          "text": [
            "565892/565892 [==============================] - 99s 174us/step\n",
            "(565892, 7)\n"
          ],
          "name": "stdout"
        }
      ]
    },
    {
      "metadata": {
        "id": "wzHfdloG1LrE",
        "colab_type": "text"
      },
      "cell_type": "markdown",
      "source": [
        "Run the codes below to use Tree Ensemble Model . Note Tree Ensemle model was perfoming much better than CNN Ensemble Model.\n",
        "On Test Set:\n",
        "Accuracy of Tree Ensemble Model : 82 %,\n",
        "Accuracy of CNN Ensemble Model : 70 %,\n",
        "Accuracy of CNN+Tree Ensemble Model : 80%"
      ]
    },
    {
      "metadata": {
        "id": "m6MVDagld6_-",
        "colab_type": "code",
        "colab": {}
      },
      "cell_type": "code",
      "source": [
        "def load_and_process_dataset():\n",
        "    train = pd.read_csv(\"train.csv\")\n",
        "    test = pd.read_csv(\"test.csv\")\n",
        "\n",
        "    y_train = train[TARGET].ravel() -1 # XGB needs labels starting with 0!\n",
        "    \n",
        "    classes = train.Cover_Type.unique()\n",
        "    num_classes = len(classes)\n",
        "    print(\"There are %i classes: %s \" % (num_classes, classes))        \n",
        "\n",
        "    train.drop([ID, TARGET], axis=1, inplace=True)\n",
        "    test.drop([ID], axis=1, inplace=True)\n",
        "    \n",
        "    train = soil_ftr(train)\n",
        "    train = wild_ftr(train)\n",
        "    train = extra_ftr(train)\n",
        "    \n",
        "    test = soil_ftr(test)\n",
        "    test = wild_ftr(test)\n",
        "    test = extra_ftr(test)    \n",
        "    \n",
        "    \n",
        "    train = train.drop('Elevation', axis=1)\n",
        "    test = test.drop('Elevation', axis=1)    \n",
        "    \n",
        "    x_train = train.values\n",
        "    x_test = test.values\n",
        "\n",
        "    return {'X_train': x_train, 'X_test': x_test, 'y_train': y_train}"
      ],
      "execution_count": 0,
      "outputs": []
    },
    {
      "metadata": {
        "id": "08KyYuz6hOgv",
        "colab_type": "code",
        "colab": {}
      },
      "cell_type": "code",
      "source": [
        "dataset = Dataset(preprocessor=load_and_process_dataset, use_cache=True)"
      ],
      "execution_count": 0,
      "outputs": []
    },
    {
      "metadata": {
        "id": "bZg9YnOScVRt",
        "colab_type": "code",
        "colab": {}
      },
      "cell_type": "code",
      "source": [
        "rf_params = {\n",
        "    'n_estimators': 200,\n",
        "    'criterion': 'entropy',\n",
        "    'random_state': 0\n",
        "}\n",
        "\n",
        "rf1_params = {\n",
        "    'n_estimators': 200,\n",
        "    'criterion': 'gini',\n",
        "    'random_state': 0\n",
        "}\n",
        "\n",
        "et1_params = {\n",
        "    'n_estimators': 200,\n",
        "    'criterion': 'gini',\n",
        "    'random_state': 0\n",
        "}\n",
        "\n",
        "et_params = {\n",
        "    'n_estimators': 200,\n",
        "    'criterion': 'entropy',\n",
        "    'random_state': 0\n",
        "}\n",
        "\n",
        "lgb_params = {\n",
        "    'n_estimators': 200, \n",
        "    'learning_rate':0.1\n",
        "}\n",
        "\n",
        "logr_params = {\n",
        "        'solver' : 'liblinear',\n",
        "        'multi_class' : 'ovr',\n",
        "        'C': 1,\n",
        "        'random_state': 0}"
      ],
      "execution_count": 0,
      "outputs": []
    },
    {
      "metadata": {
        "id": "Lpx7Iiqucx6G",
        "colab_type": "code",
        "outputId": "dcf19cd3-6101-4323-8174-6909a3794e27",
        "colab": {
          "base_uri": "https://localhost:8080/",
          "height": 143
        }
      },
      "cell_type": "code",
      "source": [
        "rf = Classifier(dataset=dataset, estimator = RandomForestClassifier, use_cache=CACHE, parameters=rf_params,name='rf')\n",
        "print(\"rf\")\n",
        "\n",
        "et = Classifier(dataset=dataset, estimator = ExtraTreesClassifier, use_cache=CACHE, parameters=et_params,name='et')\n",
        "print(\"et\")\n",
        "\n",
        "rf1 = Classifier(dataset=dataset, estimator=RandomForestClassifier, use_cache=CACHE, parameters=rf1_params,name='rf1')\n",
        "print(\"rf1\")\n",
        "\n",
        "et1 = Classifier(dataset=dataset, use_cache=CACHE, estimator=ExtraTreesClassifier, parameters=et1_params,name='et1')\n",
        "print(\"et1\")\n",
        "\n",
        "lgbc = Classifier(dataset=dataset, estimator=LGBMClassifier, use_cache=CACHE, parameters=lgb_params,name='lgbc')\n",
        "print(\"lgbc\")\n",
        "\n",
        "gnb = Classifier(dataset=dataset,estimator=GaussianNB, use_cache=CACHE, name='gnb')\n",
        "print(\"gnb\")\n",
        "\n",
        "logr = Classifier(dataset=dataset, estimator=LogisticRegression, use_cache=CACHE, parameters=logr_params,name='logr')\n",
        "print(\"logr\")"
      ],
      "execution_count": 54,
      "outputs": [
        {
          "output_type": "stream",
          "text": [
            "rf\n",
            "et\n",
            "rf1\n",
            "et1\n",
            "lgbc\n",
            "gnb\n",
            "logr\n"
          ],
          "name": "stdout"
        }
      ]
    },
    {
      "metadata": {
        "id": "yNJJVfVkhbx3",
        "colab_type": "code",
        "colab": {}
      },
      "cell_type": "code",
      "source": [
        "def xgb_first(X_train, y_train, X_test, y_test=None):\n",
        "    xg_params = {\n",
        "        'seed': 0,\n",
        "        'colsample_bytree': 0.7,\n",
        "        'silent': 1,\n",
        "        'subsample': 0.7,\n",
        "        'learning_rate': 0.1,\n",
        "        'objective': 'multi:softprob',   \n",
        "        'num_class': 7,\n",
        "        'max_depth': 4,\n",
        "        'min_child_weight': 1,\n",
        "        'eval_metric': 'mlogloss',\n",
        "        'nrounds': 200\n",
        "    }    \n",
        "    X_train = xgb.DMatrix(X_train, label=y_train)\n",
        "    model = xgb.train(xg_params, X_train, xg_params['nrounds'])\n",
        "    return model.predict(xgb.DMatrix(X_test))"
      ],
      "execution_count": 0,
      "outputs": []
    },
    {
      "metadata": {
        "id": "G4yRYDGIhf7u",
        "colab_type": "code",
        "colab": {}
      },
      "cell_type": "code",
      "source": [
        "xgb_first = Classifier(estimator=xgb_first, dataset=dataset, use_cache=CACHE, name='xgb_first') "
      ],
      "execution_count": 0,
      "outputs": []
    },
    {
      "metadata": {
        "id": "n_S7_CimhgTG",
        "colab_type": "code",
        "colab": {}
      },
      "cell_type": "code",
      "source": [
        "pipeline = ModelsPipeline(rf, et, et1, lgbc, logr, gnb, xgb_first) \n",
        "\n",
        "stack_ds = pipeline.stack(k=NFOLDS,seed=SEED)"
      ],
      "execution_count": 0,
      "outputs": []
    },
    {
      "metadata": {
        "id": "tUhwuKmBh1jJ",
        "colab_type": "code",
        "outputId": "8732858e-20b7-4ab8-b34b-2b1028d30ee2",
        "colab": {
          "base_uri": "https://localhost:8080/",
          "height": 719
        }
      },
      "cell_type": "code",
      "source": [
        "dtrain = xgb.DMatrix(stack_ds.X_train, label=stack_ds.y_train)\n",
        "dtest = xgb.DMatrix(stack_ds.X_test)\n",
        "\n",
        "xgb_params = {\n",
        "    'seed': 0,\n",
        "    'colsample_bytree': 0.8,\n",
        "    'silent': 1,\n",
        "    'subsample': 0.6,\n",
        "    'learning_rate': 0.05,\n",
        "    'objective': 'multi:softprob',\n",
        "    'num_class': 7,        \n",
        "    'max_depth': 6,\n",
        "    'num_parallel_tree': 1,\n",
        "    'min_child_weight': 1,\n",
        "    'eval_metric': 'mlogloss',\n",
        "}\n",
        "\n",
        "res = xgb.cv(xgb_params, dtrain, num_boost_round=1000, \n",
        "             nfold=NFOLDS, seed=SEED, stratified=True,\n",
        "             early_stopping_rounds=20, verbose_eval=5, show_stdv=True)\n",
        "\n",
        "best_nrounds = res.shape[0] - 1\n",
        "cv_mean = res.iloc[-1, 2]\n",
        "cv_std = res.iloc[-1, 3]\n",
        "\n",
        "print('Ensemble-CV: {0}+{1}, best nrounds = {2}'.format(cv_mean, cv_std, best_nrounds))"
      ],
      "execution_count": 58,
      "outputs": [
        {
          "output_type": "stream",
          "text": [
            "[0]\ttrain-mlogloss:1.80214+0.000282434\ttest-mlogloss:1.80598+0.000577632\n",
            "[5]\ttrain-mlogloss:1.31788+0.000872974\ttest-mlogloss:1.33759+0.00161825\n",
            "[10]\ttrain-mlogloss:1.02329+0.00124902\ttest-mlogloss:1.05533+0.00246449\n",
            "[15]\ttrain-mlogloss:0.819546+0.0010386\ttest-mlogloss:0.862278+0.00329664\n",
            "[20]\ttrain-mlogloss:0.671009+0.00117647\ttest-mlogloss:0.723259+0.00395591\n",
            "[25]\ttrain-mlogloss:0.559379+0.00127167\ttest-mlogloss:0.620293+0.0043042\n",
            "[30]\ttrain-mlogloss:0.473625+0.0014086\ttest-mlogloss:0.542543+0.00469899\n",
            "[35]\ttrain-mlogloss:0.407017+0.00135371\ttest-mlogloss:0.483044+0.00514531\n",
            "[40]\ttrain-mlogloss:0.35463+0.00151074\ttest-mlogloss:0.437178+0.00543984\n",
            "[45]\ttrain-mlogloss:0.313112+0.00139845\ttest-mlogloss:0.401771+0.00544842\n",
            "[50]\ttrain-mlogloss:0.280078+0.00115316\ttest-mlogloss:0.374358+0.00543412\n",
            "[55]\ttrain-mlogloss:0.253361+0.000882569\ttest-mlogloss:0.352708+0.00581225\n",
            "[60]\ttrain-mlogloss:0.231826+0.000859505\ttest-mlogloss:0.336009+0.00601835\n",
            "[65]\ttrain-mlogloss:0.214234+0.000933401\ttest-mlogloss:0.322764+0.00610471\n",
            "[70]\ttrain-mlogloss:0.199597+0.00102285\ttest-mlogloss:0.31257+0.00632262\n",
            "[75]\ttrain-mlogloss:0.187401+0.000829721\ttest-mlogloss:0.304327+0.00655868\n",
            "[80]\ttrain-mlogloss:0.176928+0.000749572\ttest-mlogloss:0.297784+0.00678273\n",
            "[85]\ttrain-mlogloss:0.16792+0.000638861\ttest-mlogloss:0.292718+0.00698695\n",
            "[90]\ttrain-mlogloss:0.159957+0.000637755\ttest-mlogloss:0.288639+0.00695757\n",
            "[95]\ttrain-mlogloss:0.152942+0.00066315\ttest-mlogloss:0.285117+0.00689962\n",
            "[100]\ttrain-mlogloss:0.146686+0.000708539\ttest-mlogloss:0.282226+0.00705104\n",
            "[105]\ttrain-mlogloss:0.14095+0.000594626\ttest-mlogloss:0.280006+0.0072189\n",
            "[110]\ttrain-mlogloss:0.135742+0.000500795\ttest-mlogloss:0.278392+0.00720917\n",
            "[115]\ttrain-mlogloss:0.130985+0.000435584\ttest-mlogloss:0.276602+0.00713035\n",
            "[120]\ttrain-mlogloss:0.126524+0.000511202\ttest-mlogloss:0.275321+0.00709221\n",
            "[125]\ttrain-mlogloss:0.122241+0.000542486\ttest-mlogloss:0.274274+0.00700087\n",
            "[130]\ttrain-mlogloss:0.118258+0.000581742\ttest-mlogloss:0.273482+0.00723654\n",
            "[135]\ttrain-mlogloss:0.114505+0.000612675\ttest-mlogloss:0.2728+0.00722526\n",
            "[140]\ttrain-mlogloss:0.110958+0.000655953\ttest-mlogloss:0.272372+0.0073334\n",
            "[145]\ttrain-mlogloss:0.107557+0.000812378\ttest-mlogloss:0.271991+0.00749823\n",
            "[150]\ttrain-mlogloss:0.104222+0.000878745\ttest-mlogloss:0.271889+0.00762042\n",
            "[155]\ttrain-mlogloss:0.101006+0.000879861\ttest-mlogloss:0.27173+0.00773477\n",
            "[160]\ttrain-mlogloss:0.0978972+0.000833224\ttest-mlogloss:0.271473+0.00776934\n",
            "[165]\ttrain-mlogloss:0.094935+0.000712747\ttest-mlogloss:0.271426+0.00779996\n",
            "[170]\ttrain-mlogloss:0.0920836+0.00081251\ttest-mlogloss:0.271614+0.00783899\n",
            "[175]\ttrain-mlogloss:0.08923+0.000857641\ttest-mlogloss:0.271846+0.00788334\n",
            "[180]\ttrain-mlogloss:0.0864978+0.000861954\ttest-mlogloss:0.271991+0.00799232\n",
            "[185]\ttrain-mlogloss:0.0839006+0.000975585\ttest-mlogloss:0.272227+0.00813017\n",
            "Ensemble-CV: 0.0943438+0.0007053944712003345, best nrounds = 166\n"
          ],
          "name": "stdout"
        }
      ]
    },
    {
      "metadata": {
        "id": "sHj6hv7vhgZs",
        "colab_type": "code",
        "colab": {
          "base_uri": "https://localhost:8080/",
          "height": 35
        },
        "outputId": "f453d729-66a8-4cb1-8623-5678cd690763"
      },
      "cell_type": "code",
      "source": [
        "model = xgb.train(xgb_params, dtrain, best_nrounds)\n",
        "\n",
        "xpreds_proba = model.predict(dtest)\n",
        "\n",
        "# Note: labels starting with 0 in xgboost, therefore adding +1!\n",
        "#y_pred_xgb = np.round(np.argmax(xpreds_proba, axis=1)).astype(int) + 1\n",
        "\n",
        "y_pred=(y_pred1+y_pred2+y_pred3+y_pred4)/4\n",
        "y_pred=y_pred+xpreds_proba\n",
        "\n",
        "y_pred=np.argmax(y_pred, axis = 1)\n",
        "y_pred=y_pred+1\n",
        "from collections import Counter\n",
        "c = Counter( y_pred )\n",
        "\n",
        "print( c.items() )"
      ],
      "execution_count": 59,
      "outputs": [
        {
          "output_type": "stream",
          "text": [
            "dict_items([(1, 202170), (2, 250407), (5, 24262), (7, 28742), (3, 39271), (6, 19137), (4, 1903)])\n"
          ],
          "name": "stdout"
        }
      ]
    },
    {
      "metadata": {
        "id": "s1o6hgPJnuq7",
        "colab_type": "code",
        "colab": {}
      },
      "cell_type": "code",
      "source": [
        "sub=pd.read_csv('test.csv',usecols=['Id'])\n",
        "sub['Cover_Type']=y_pred\n",
        "sub.to_csv('sub_ensemble_forest5.csv',index=False)\n",
        "sub.head()"
      ],
      "execution_count": 0,
      "outputs": []
    }
  ]
}